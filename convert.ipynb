{
 "cells": [
  {
   "cell_type": "code",
   "execution_count": 1,
   "id": "4aba49b8",
   "metadata": {},
   "outputs": [],
   "source": [
    "from ViT.model import VisionTransformer, CONFIGS\n",
    "import torch\n",
    "import numpy as np\n",
    "\n",
    "import matplotlib.pyplot as plt"
   ]
  },
  {
   "cell_type": "markdown",
   "id": "e373dcbe",
   "metadata": {},
   "source": [
    "# Available Pretrained Models\n",
    "\n",
    "Pretrained models in [here](https://console.cloud.google.com/storage/browser/vit_models/imagenet21k?pageState=(%22StorageObjectListTable%22:(%22f%22:%22%255B%255D%22))&prefix=&forceOnObjectsSortingFiltering=false).\n",
    "\n",
    "- ViT-B_16\n",
    "- ViT-B_32\n",
    "- ViT-L_16\n",
    "- ViT-L_32\n",
    "- ViT-H_14\n",
    "- R50-ViT-B_16\n",
    "- R50-ViT-L_16"
   ]
  },
  {
   "cell_type": "code",
   "execution_count": 10,
   "id": "56c7dd4b",
   "metadata": {},
   "outputs": [],
   "source": [
    "class Config:\n",
    "    img_size         = 224\n",
    "    vit_patches_size = 16\n",
    "    vit_name         = 'ViT-L_16'\n",
    "args = Config()"
   ]
  },
  {
   "cell_type": "code",
   "execution_count": 3,
   "id": "f34e794b",
   "metadata": {},
   "outputs": [
    {
     "name": "stdout",
     "output_type": "stream",
     "text": [
      "pretrained path:  ./model/vit_checkpoint/imagenet21k/ViT-B_32.npz\n"
     ]
    }
   ],
   "source": [
    "# model config\n",
    "config_vit = CONFIGS[args.vit_name]\n",
    "print('pretrained path: ',config_vit.pretrained_path)\n",
    "\n",
    "if args.vit_name.find('R50') != -1:\n",
    "    config_vit.patches.grid = (int(args.img_size / args.vit_patches_size), int(args.img_size / args.vit_patches_size))"
   ]
  },
  {
   "cell_type": "code",
   "execution_count": 4,
   "id": "d5319a3c",
   "metadata": {},
   "outputs": [],
   "source": [
    "model = VisionTransformer(config_vit, vis=True)\n",
    "model.load_from(config_vit)"
   ]
  },
  {
   "cell_type": "markdown",
   "id": "898acdcf",
   "metadata": {},
   "source": [
    "# Test Inference"
   ]
  },
  {
   "cell_type": "code",
   "execution_count": 5,
   "id": "2b5b5d4f",
   "metadata": {},
   "outputs": [
    {
     "name": "stdout",
     "output_type": "stream",
     "text": [
      "outputs.shape:  torch.Size([2, 50, 768])\n",
      "len(attn_weights):  12\n",
      "attn_weights[0].shape:  torch.Size([2, 12, 50, 50])\n"
     ]
    }
   ],
   "source": [
    "inputs = torch.randn(2,3,224,224)\n",
    "outputs, attn_weights, features = model(inputs)\n",
    "\n",
    "print('outputs.shape: ',outputs.shape)\n",
    "print('len(attn_weights): ',len(attn_weights))\n",
    "print('attn_weights[0].shape: ',attn_weights[0].shape)"
   ]
  },
  {
   "cell_type": "markdown",
   "id": "134ecfa9",
   "metadata": {},
   "source": [
    "# Visualize a Cosine Similarity Matrix between Position Embeddings"
   ]
  },
  {
   "cell_type": "code",
   "execution_count": 6,
   "id": "4427751e",
   "metadata": {},
   "outputs": [
    {
     "data": {
      "image/png": "[encoded data removed]",
      "text/plain": [
       "<Figure size 720x576 with 50 Axes>"
      ]
     },
     "metadata": {
      "needs_background": "light"
     },
     "output_type": "display_data"
    }
   ],
   "source": [
    "def cos_sim(a, b):\n",
    "    return np.dot(a,b)/(np.linalg.norm(a)*np.linalg.norm(b))\n",
    "\n",
    "pos_embed = model.transformer.embeddings.position_embeddings[:,1:,:].squeeze().cpu().detach().numpy()\n",
    "\n",
    "# cosine similarity\n",
    "pos_sim = np.zeros((pos_embed.shape[0], pos_embed.shape[0]))\n",
    "for i in range(pos_embed.shape[0]):\n",
    "    for j in range(pos_embed.shape[0]):\n",
    "        pos_sim[i,j] = cos_sim(pos_embed[i], pos_embed[j])\n",
    "\n",
    "# plotting\n",
    "num_row, num_col = [args.img_size // args.vit_patches_size] * 2\n",
    "f, axes = plt.subplots(num_row, num_col, figsize=(10,8))\n",
    "for i, ax in enumerate(axes.flat):\n",
    "    im = ax.imshow(pos_sim[i].reshape(num_row, num_col))\n",
    "    ax.axis('off')\n",
    "\n",
    "cbar = plt.colorbar(im, ax=axes.ravel().tolist())\n",
    "cbar.set_label('Cosine similarity')"
   ]
  }
 ],
 "metadata": {
  "kernelspec": {
   "display_name": "Python 3",
   "language": "python",
   "name": "python3"
  },
  "language_info": {
   "codemirror_mode": {
    "name": "ipython",
    "version": 3
   },
   "file_extension": ".py",
   "mimetype": "text/x-python",
   "name": "python",
   "nbconvert_exporter": "python",
   "pygments_lexer": "ipython3",
   "version": "3.8.3"
  }
 },
 "nbformat": 4,
 "nbformat_minor": 5
}
